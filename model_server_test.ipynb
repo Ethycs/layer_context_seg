{
 "cells": [
  {
   "cell_type": "code",
   "execution_count": 1,
   "metadata": {
    "execution": {
     "iopub.execute_input": "2025-07-17T00:39:05.887595Z",
     "iopub.status.busy": "2025-07-17T00:39:05.887205Z",
     "iopub.status.idle": "2025-07-17T00:39:05.894563Z",
     "shell.execute_reply": "2025-07-17T00:39:05.893732Z"
    }
   },
   "outputs": [],
   "source": [
    "import sys\n",
    "from pathlib import Path\n",
    "import logging\n",
    "\n",
    "# --- Setup Logging and Paths ---\n",
    "logging.basicConfig(level=logging.INFO, filename='notebook.log', filemode='w')\n",
    "logger = logging.getLogger(__name__)\n",
    "\n",
    "project_root = Path('.').resolve()\n",
    "src_path = project_root / 'layered-context-graph' / 'src'\n",
    "if str(src_path) not in sys.path:\n",
    "    sys.path.insert(0, str(src_path))\n",
    "logger.info(f\"Project root set to: {project_root}\")"
   ]
  },
  {
   "cell_type": "code",
   "execution_count": 2,
   "metadata": {
    "execution": {
     "iopub.execute_input": "2025-07-17T00:39:05.897350Z",
     "iopub.status.busy": "2025-07-17T00:39:05.897061Z",
     "iopub.status.idle": "2025-07-17T00:39:13.550272Z",
     "shell.execute_reply": "2025-07-17T00:39:13.549629Z"
    }
   },
   "outputs": [],
   "source": [
    "from models.qwq_model import QwQModel\n",
    "import torch"
   ]
  },
  {
   "cell_type": "code",
   "execution_count": 4,
   "metadata": {
    "execution": {
     "iopub.execute_input": "2025-07-17T00:39:13.552588Z",
     "iopub.status.busy": "2025-07-17T00:39:13.552235Z",
     "iopub.status.idle": "2025-07-17T00:39:51.538855Z",
     "shell.execute_reply": "2025-07-17T00:39:51.538339Z"
    }
   },
   "outputs": [
    {
     "data": {
      "application/vnd.jupyter.widget-view+json": {
       "model_id": "36e2d5264d6a49e3993b1ffd53fa1adf",
       "version_major": 2,
       "version_minor": 0
      },
      "text/plain": [
       "Loading checkpoint shards:   0%|          | 0/4 [00:00<?, ?it/s]"
      ]
     },
     "metadata": {},
     "output_type": "display_data"
    },
    {
     "ename": "",
     "evalue": "",
     "output_type": "error",
     "traceback": [
      "\u001b[1;31mThe Kernel crashed while executing code in the current cell or a previous cell. \n",
      "\u001b[1;31mPlease review the code in the cell(s) to identify a possible cause of the failure. \n",
      "\u001b[1;31mClick <a href='https://aka.ms/vscodeJupyterKernelCrash'>here</a> for more info. \n",
      "\u001b[1;31mView Jupyter <a href='command:jupyter.viewOutput'>log</a> for further details."
     ]
    }
   ],
   "source": [
    "# --- Cell 3: Model Loading ---\n",
    "MODEL_PATH = './QwQ_LCoT_7B_Instruct'\n",
    "device = torch.device('cuda' if torch.cuda.is_available() else 'cpu')\n",
    "\n",
    "preloaded_qwq_model = None\n",
    "try:\n",
    "    preloaded_qwq_model = QwQModel(MODEL_PATH, device)\n",
    "    logger.info(\"QwQModel pre-loaded successfully.\")\n",
    "    print(\"QwQModel pre-loaded successfully.\")\n",
    "except Exception as e:\n",
    "    logger.error(f\"Error pre-loading QwQModel: {e}\", exc_info=True)\n",
    "    print(f\"Error pre-loading QwQModel: {e}\")"
   ]
  },
  {
   "cell_type": "code",
   "execution_count": 1,
   "metadata": {},
   "outputs": [
    {
     "name": "stdout",
     "output_type": "stream",
     "text": [
      "Model device: meta\n",
      "Model device after loading: cuda:0\n"
     ]
    }
   ],
   "source": [
    "from accelerate import init_empty_weights\n",
    "import torch\n",
    "\n",
    "# This is what init_empty_weights() does internally:\n",
    "# def init_empty_weights():\n",
    "#     old_register_parameter = torch.nn.Module.register_parameter\n",
    "    \n",
    "#     def register_empty_parameter(module, name, param):\n",
    "#         # Create parameter on meta device instead of default device\n",
    "#         if param is not None:\n",
    "#             param = param.to(torch.device(\"meta\"))\n",
    "#         old_register_parameter(module, name, param)\n",
    "    \n",
    "#     # Temporarily replace the registration function\n",
    "#     torch.nn.Module.register_parameter = register_empty_parameter\n",
    "    \n",
    "#     # Also set default device to meta\n",
    "#     with torch.device(\"meta\"):\n",
    "#         yield\n",
    "\n",
    "from pathlib import Path\n",
    "from transformers import AutoConfig, AutoModelForCausalLM\n",
    "from safetensors import safe_open\n",
    "import json\n",
    "\n",
    "class ShardedSafeTensorsLoader:\n",
    "    def __init__(self, model_dir):\n",
    "        self.model_dir = Path(model_dir)\n",
    "        with open(self.model_dir / \"model.safetensors.index.json\") as f:\n",
    "            self.index = json.load(f)\n",
    "    \n",
    "    def load_to_gpu(self, model):\n",
    "        \"\"\"Load sharded SafeTensors directly to GPU\"\"\"\n",
    "        weight_map = self.index[\"weight_map\"]\n",
    "        \n",
    "        # Group by shard\n",
    "        shards = {}\n",
    "        for param_name, shard_file in weight_map.items():\n",
    "            if shard_file not in shards:\n",
    "                shards[shard_file] = []\n",
    "            shards[shard_file].append(param_name)\n",
    "        \n",
    "        # Load each shard\n",
    "        for shard_file, param_names in shards.items():\n",
    "            shard_path = self.model_dir / shard_file\n",
    "            \n",
    "            # Open SafeTensors file with direct GPU loading\n",
    "            with safe_open(shard_path, framework=\"pt\", device=\"cuda:0\") as f:\n",
    "                for param_name in param_names:\n",
    "                    if param_name in f.keys():\n",
    "                        # Direct GPU load - no RAM used!\n",
    "                        tensor = f.get_tensor(param_name)\n",
    "                        self._assign_param(model, param_name, tensor)\n",
    "            # Clean up CUDA cache between shards\n",
    "            torch.cuda.empty_cache()\n",
    "        return model\n",
    "            \n",
    "\n",
    "    \n",
    "    def _assign_param(self, model, param_name, tensor):\n",
    "        \"\"\"Assign parameter to model\"\"\"\n",
    "        keys = param_name.split('.')\n",
    "        ptr = model\n",
    "        for key in keys[:-1]:\n",
    "            ptr = getattr(ptr, key)\n",
    "        setattr(ptr, keys[-1], torch.nn.Parameter(tensor))\n",
    "            \n",
    "def load_sharded_model(model_dir: str):\n",
    "    # Step 1: Load the config\n",
    "    config = AutoConfig.from_pretrained(model_dir)\n",
    "    \n",
    "    # Step 2: Create model on meta device (no memory used)\n",
    "    with init_empty_weights():\n",
    "        model = AutoModelForCausalLM.from_config(config)\n",
    "    \n",
    "    # Verify it's on meta device\n",
    "    print(f\"Model device: {next(model.parameters()).device}\")  # Should print \"meta\"\n",
    "    \n",
    "    # Step 3: Load weights directly to GPU\n",
    "    loader = ShardedSafeTensorsLoader(model_dir)\n",
    "    model = loader.load_to_gpu(model)\n",
    "    \n",
    "    # Now model is on GPU\n",
    "    print(f\"Model device after loading: {next(model.parameters()).device}\")  # Should print \"cuda:0\"\n",
    "    \n",
    "    return model\n",
    "\n",
    "# Usage example:\n",
    "model = load_sharded_model(\"/workspaces/layer_context_seg/QwQ_LCoT_7B_Instruct\")"
   ]
  },
  {
   "cell_type": "code",
   "execution_count": 15,
   "metadata": {
    "execution": {
     "iopub.execute_input": "2025-07-17T00:39:51.540711Z",
     "iopub.status.busy": "2025-07-17T00:39:51.540517Z",
     "iopub.status.idle": "2025-07-17T00:41:46.491045Z",
     "shell.execute_reply": "2025-07-17T00:41:46.490553Z"
    }
   },
   "outputs": [],
   "source": [
    "# --- Cell 4: Test Text Generation ---\n",
    "if preloaded_qwq_model:\n",
    "    try:\n",
    "        prompt = \"Once upon a time,\"\n",
    "        generated_text = preloaded_qwq_model.generate(prompt)\n",
    "        logger.info(f\"Generated text: {generated_text}\")\n",
    "        print(f\"Generated text: {generated_text}\")\n",
    "    except Exception as e:\n",
    "        logger.error(f\"Error during text generation test: {e}\", exc_info=True)\n",
    "        print(f\"Error during text generation test: {e}\")"
   ]
  }
 ],
 "metadata": {
  "kernelspec": {
   "display_name": "Python 3",
   "language": "python",
   "name": "python3"
  },
  "language_info": {
   "codemirror_mode": {
    "name": "ipython",
    "version": 3
   },
   "file_extension": ".py",
   "mimetype": "text/x-python",
   "name": "python",
   "nbconvert_exporter": "python",
   "pygments_lexer": "ipython3",
   "version": "3.12.3"
  }
 },
 "nbformat": 4,
 "nbformat_minor": 2
}

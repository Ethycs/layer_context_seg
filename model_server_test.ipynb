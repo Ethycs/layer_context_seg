{
 "cells": [
  {
   "cell_type": "code",
   "execution_count": null,
   "metadata": {},
   "outputs": [],
   "source": [
    "import sys\n",
    "from pathlib import Path\n",
    "import logging\n",
    "import torch\n",
    "import np\n",
    "\n",
    "# --- Setup Logging and Paths ---\n",
    "logging.basicConfig(level=logging.INFO, filename='notebook.log', filemode='w')\n",
    "logger = logging.getLogger(__name__)\n",
    "\n",
    "project_root = Path('.').resolve()\n",
    "src_path = project_root / 'layered-context-graph' / 'src'\n",
    "if str(src_path) not in sys.path:\n",
    "    sys.path.insert(0, str(src_path))\n",
    "logger.info(f\"Project root set to: {project_root}\")\n",
    "\n",
    "# Import the refactored model class\n",
    "from models.qwq_model import QwQModel"
   ]
  },
  {
   "cell_type": "code",
   "execution_count": 4,
   "metadata": {},
   "outputs": [
    {
     "name": "stdout",
     "output_type": "stream",
     "text": [
      "Initializing QwQModel (lazy)...\n",
      "QwQModel initialized. No data has been loaded yet.\n"
     ]
    }
   ],
   "source": [
    "# --- Cell 2: Model Initialization ---\n",
    "# Note: This step is now instant because of lazy loading.\n",
    "# The model will only be loaded to the GPU when a method is called.\n",
    "\n",
    "MODEL_PATH = './QwQ_LCoT_7B_Instruct'\n",
    "device = torch.device('cuda' if torch.cuda.is_available() else 'cpu')\n",
    "\n",
    "print(\"Initializing QwQModel (lazy)...\")\n",
    "model_instance = QwQModel(MODEL_PATH, device)\n",
    "print(\"QwQModel initialized. No data has been loaded yet.\")"
   ]
  },
  {
   "cell_type": "code",
   "execution_count": 5,
   "metadata": {},
   "outputs": [
    {
     "name": "stdout",
     "output_type": "stream",
     "text": [
      "Testing generation with prompt: 'The best way to build a knowledge graph is'\n",
      "Model device: meta\n",
      "Model device after loading: cuda:0\n",
      "\n",
      "--- Generated Text ---\n",
      "The best way to build a knowledge graph is!! The!!! Best!!!!! Way!! is!!! to!!!!! start!!!!!!! with!!!!!!!!!!!!!!!!\n",
      "----------------------\n"
     ]
    }
   ],
   "source": [
    "# --- Cell 3: Test Text Generation ---\n",
    "# This will trigger the lazy loading of the model to the GPU.\n",
    "\n",
    "try:\n",
    "    prompt = \"The best way to build a knowledge graph is\"\n",
    "    print(f\"Testing generation with prompt: '{prompt}'\")\n",
    "    \n",
    "    # The model will be loaded here, on the first call\n",
    "    generated_text = model_instance.generate(prompt, max_tokens=50)\n",
    "    \n",
    "    logger.info(f\"Generated text: {generated_text}\")\n",
    "    print(\"\\n--- Generated Text ---\")\n",
    "    print(generated_text)\n",
    "    print(\"----------------------\")\n",
    "    \n",
    "except Exception as e:\n",
    "    logger.error(f\"Error during text generation test: {e}\", exc_info=True)\n",
    "    print(f\"Error during text generation test: {e}\")"
   ]
  },
  {
   "cell_type": "code",
   "execution_count": 8,
   "metadata": {},
   "outputs": [
    {
     "name": "stdout",
     "output_type": "stream",
     "text": [
      "\n",
      "Testing attention extraction with text: 'Attention mechanisms in Transformers allow the model to focus on relevant parts of the input.'\n",
      "Successfully extracted attention for 28 layers.\n",
      "Shape of attention tensor in the first layer: (28, 16, 16)\n"
     ]
    }
   ],
   "source": [
    "# --- Cell 4: Test Attention Extraction ---\n",
    "# The model is already loaded, so this should be faster.\n",
    "import numpy as np\n",
    "try:\n",
    "    text_for_attention = \"Attention mechanisms in Transformers allow the model to focus on relevant parts of the input.\"\n",
    "    print(f\"\\nTesting attention extraction with text: '{text_for_attention}'\")\n",
    "    \n",
    "    attention_data = model_instance.extract_attention(text_for_attention)\n",
    "    \n",
    "    # Verify the output\n",
    "    if isinstance(attention_data, dict) and 'attentions' in attention_data:\n",
    "        num_layers = len(attention_data['attentions'])\n",
    "        print(f\"Successfully extracted attention for {num_layers} layers.\")\n",
    "        first_layer_shape = np.array(attention_data['attentions'][0]).shape\n",
    "        print(f\"Shape of attention tensor in the first layer: {first_layer_shape}\")\n",
    "        logger.info(f\"Attention extraction successful for {num_layers} layers.\")\n",
    "    else:\n",
    "        print(\"Attention extraction did not return the expected format.\")\n",
    "\n",
    "except Exception as e:\n",
    "    logger.error(f\"Error during attention extraction test: {e}\", exc_info=True)\n",
    "    print(f\"Error during attention extraction test: {e}\")"
   ]
  }
 ],
 "metadata": {
  "kernelspec": {
   "display_name": "Python 3",
   "language": "python",
   "name": "python3"
  },
  "language_info": {
   "codemirror_mode": {
    "name": "ipython",
    "version": 3
   },
   "file_extension": ".py",
   "mimetype": "text/x-python",
   "name": "python",
   "nbconvert_exporter": "python",
   "pygments_lexer": "ipython3",
   "version": "3.12.0"
  }
 },
 "nbformat": 4,
 "nbformat_minor": 4
}

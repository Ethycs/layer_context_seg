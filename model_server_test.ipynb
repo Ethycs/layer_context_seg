{
 "cells": [
  {
   "cell_type": "code",
   "execution_count": null,
   "metadata": {},
   "outputs": [],
   "source": [
    "import sys\n",
    "from pathlib import Path\n",
    "import logging\n",
    "import torch\n",
    "import numpy as np\n",
    "import networkx as nx\n",
    "import matplotlib.pyplot as plt\n",
    "\n",
    "# --- Setup Logging and Paths ---\n",
    "logging.basicConfig(level=logging.INFO, filename='notebook.log', filemode='w')\n",
    "logger = logging.getLogger(__name__)\n",
    "\n",
    "project_root = Path('.').resolve()\n",
    "src_path = project_root / 'layered-context-graph' / 'src'\n",
    "if str(src_path) not in sys.path:\n",
    "    sys.path.insert(0, str(src_path))\n",
    "logger.info(f\"Project root set to: {project_root}\")\n",
    "\n",
    "from models.baai_model import BAAIModel\n",
    "from models.qwq_model import QwQModel\n",
    "from partitioning.partition_manager import PartitionManager"
   ]
  },
  {
   "cell_type": "code",
   "execution_count": null,
   "metadata": {},
   "outputs": [],
   "source": [
    "# --- Cell 2: Model Initialization ---\n",
    "BAAI_MODEL_PATH = './bge-en-icl'\n",
    "QWQ_MODEL_PATH = './QwQ_LCoT_7B_Instruct/'\n",
    "device = torch.device('cuda' if torch.cuda.is_available() else 'cpu')\n",
    "\n",
    "print(\"Initializing BAAIModel (lazy)...\")\n",
    "embedding_model = BAAIModel(model_path=BAAI_MODEL_PATH, device=device)\n",
    "print(\"BAAIModel initialized.\")\n",
    "\n",
    "print(\"Initializing QwQModel (lazy)...\")\n",
    "segmenter_model = QwQModel(qwq_model_path=QWQ_MODEL_PATH, device=device)\n",
    "print(\"QwQModel initialized.\")"
   ]
  },
  {
   "cell_type": "code",
   "execution_count": null,
   "metadata": {},
   "outputs": [],
   "source": [
    "# --- Cell 3: End-to-End Partition and Graph Test ---\n",
    "pipeline_text = open('Layer_Context_Window_Graphs', 'r').read() if Path('Layer_Context_Window_Graphs').exists() else \"The sun rises in the east. Birds sing. Later, the topic shifts to astrophysics. The lifecycle of a star is complex. Returning to our original theme, the weather is warm.\"\n",
    "segmentation_rule = \"Split into paragraphs.\"\n",
    "\n",
    "# 1. Initialize the manager\n",
    "manager = PartitionManager(similarity_threshold=0.7)\n",
    "manager.initialize_graph(pipeline_text)\n",
    "\n",
    "# 2. Perform segmentation\n",
    "print(f\"Applying Rule: '{segmentation_rule}'\")\n",
    "leaves_to_process = manager.get_leaves_to_process()\n",
    "for segment_to_split in leaves_to_process:\n",
    "    new_content_pieces = segmenter_model.segment(segmentation_rule, segment_to_split.content)\n",
    "    manager.add_child_segments(segment_to_split.id, new_content_pieces)\n",
    "\n",
    "# 3. Add semantic edges\n",
    "manager.add_semantic_edges(embedding_model)\n",
    "\n",
    "# 4. Classify nodes\n",
    "manager.classify()\n",
    "\n",
    "print(f\"Graph construction complete. Found {len(manager.segments)} nodes and {manager.graph.number_of_edges()} edges.\")"
   ]
  },
  {
   "cell_type": "code",
   "execution_count": null,
   "metadata": {},
   "outputs": [],
   "source": [
    "# --- Cell 4: Visualize the Graph ---\n",
    "graph = manager.graph\n",
    "if graph and graph.nodes():\n",
    "    plt.figure(figsize=(12, 12))\n",
    "    pos = nx.spring_layout(graph, seed=42)\n",
    "    \n",
    "    labels = {node_id: f\"{data['segment'].id[:4]}...\\n({data['segment'].tag})\" for node_id, data in graph.nodes(data=True)}\n",
    "    \n",
    "    color_map = {'KEEP': 'skyblue', 'TRACK': 'lightgreen', 'DELETE': 'lightcoral'}\n",
    "    if manager.root_id in graph.nodes:\n",
    "        graph.nodes[manager.root_id]['segment'].tag = 'ROOT'\n",
    "        color_map['ROOT'] = 'gold'\n",
    "        \n",
    "    node_colors = [color_map.get(data['segment'].tag, 'gray') for _, data in graph.nodes(data=True)]\n",
    "\n",
    "    nx.draw(graph, pos, labels=labels, with_labels=True, node_size=2000, node_color=node_colors, font_size=8, font_weight='bold')\n",
    "    plt.title('Knowledge Graph from PartitionManager')\n",
    "    plt.show()\n",
    "else:\n",
    "    print(\"No graph data to visualize.\")"
   ]
  },
  {
   "cell_type": "code",
   "execution_count": null,
   "metadata": {},
   "outputs": [],
   "source": [
    "# --- Cell 5: Print Deleted Segments ---\n",
    "print(\"--- Segments Marked for Deletion ---\")\n",
    "deleted_segments = [seg for seg in manager.segments.values() if seg.tag == 'DELETE']\n",
    "\n",
    "if deleted_segments:\n",
    "    for i, segment in enumerate(deleted_segments):\n",
    "        print(f\"--- Deleted Segment {i+1} (ID: {segment.id}) ---\")\n",
    "        print(segment.content)\n",
    "        print(\"-\" * 40)\n",
    "else:\n",
    "    print(\"No segments were marked for deletion.\")"
   ]
  }
 ],
 "metadata": {
  "kernelspec": {
   "display_name": "Python 3",
   "language": "python",
   "name": "python3"
  },
  "language_info": {
   "codemirror_mode": {
    "name": "ipython",
    "version": 3
   },
   "file_extension": ".py",
   "mimetype": "text/x-python",
   "name": "python",
   "nbconvert_exporter": "python",
   "pygments_lexer": "ipython3",
   "version": "3.12.0"
  }
 },
 "nbformat": 4,
 "nbformat_minor": 2
}

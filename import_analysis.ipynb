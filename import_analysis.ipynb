{
 "cells": [
  {
   "cell_type": "markdown",
   "metadata": {},
   "source": [
    "# Import Analysis Notebook\n",
    "\n",
    "This notebook is designed to systematically analyze and debug the import issues in the `layered-context-graph` project."
   ]
  },
  {
   "cell_type": "code",
   "execution_count": 1,
   "metadata": {},
   "outputs": [
    {
     "name": "stdout",
     "output_type": "stream",
     "text": [
      "Python Version: 3.12.3 (main, Feb  4 2025, 14:48:35) [GCC 13.3.0]\n",
      "\n",
      "Python Path:\n",
      "/usr/lib/python312.zip\n",
      "/usr/lib/python3.12\n",
      "/usr/lib/python3.12/lib-dynload\n",
      "\n",
      "/usr/local/lib/python3.12/dist-packages\n",
      "/usr/local/lib/python3.12/dist-packages/nvfuser-0.2.26a0+c5e1555-py3.12-linux-x86_64.egg\n",
      "/usr/local/lib/python3.12/dist-packages/lightning_thunder-0.2.2.dev0-py3.12.egg\n",
      "/usr/local/lib/python3.12/dist-packages/dill-0.3.9-py3.12.egg\n",
      "/usr/local/lib/python3.12/dist-packages/opt_einsum-3.4.0-py3.12.egg\n",
      "/usr/local/lib/python3.12/dist-packages/lightning_utilities-0.14.0-py3.12.egg\n",
      "/usr/local/lib/python3.12/dist-packages/looseversion-1.3.0-py3.12.egg\n",
      "/usr/local/lib/python3.12/dist-packages/setuptools/_vendor\n",
      "/workspaces/layer_context_seg\n",
      "/usr/lib/python3/dist-packages\n"
     ]
    }
   ],
   "source": [
    "import sys\n",
    "import os\n",
    "\n",
    "print(f\"Python Version: {sys.version}\")\n",
    "print(\"\\nPython Path:\")\n",
    "for path in sys.path:\n",
    "    print(path)"
   ]
  },
  {
   "cell_type": "markdown",
   "metadata": {},
   "source": [
    "## Test Basic Imports\n",
    "\n",
    "This cell tests basic imports to ensure the environment is working correctly."
   ]
  },
  {
   "cell_type": "code",
   "execution_count": 2,
   "metadata": {},
   "outputs": [
    {
     "name": "stdout",
     "output_type": "stream",
     "text": [
      "Basic imports successful.\n"
     ]
    }
   ],
   "source": [
    "try:\n",
    "    import torch\n",
    "    import numpy\n",
    "    import transformers\n",
    "    print(\"Basic imports successful.\")\n",
    "except ImportError as e:\n",
    "    print(f\"Error importing basic libraries: {e}\")"
   ]
  },
  {
   "cell_type": "markdown",
   "metadata": {},
   "source": [
    "## Test Project Imports\n",
    "\n",
    "This cell attempts to import the project's modules using different strategies."
   ]
  },
  {
   "cell_type": "code",
   "execution_count": 3,
   "metadata": {},
   "outputs": [
    {
     "name": "stdout",
     "output_type": "stream",
     "text": [
      "--- Strategy 1: Adding 'src' to path ---\n",
      "Strategy 1 successful.\n",
      "\n",
      "--- Strategy 2: Adding project root to path ---\n",
      "Strategy 2 failed: No module named 'layered_context_graph'\n"
     ]
    }
   ],
   "source": [
    "print(\"--- Strategy 1: Adding 'src' to path ---\")\n",
    "try:\n",
    "    sys.path.append(os.path.join(os.getcwd(), 'layered-context-graph', 'src'))\n",
    "    from models.attention_extractor import EnhancedAttentionExtractor\n",
    "    print(\"Strategy 1 successful.\")\n",
    "except ImportError as e:\n",
    "    print(f\"Strategy 1 failed: {e}\")\n",
    "\n",
    "print(\"\\n--- Strategy 2: Adding project root to path ---\")\n",
    "try:\n",
    "    sys.path.append(os.getcwd())\n",
    "    from layered_context_graph.src.models.attention_extractor import EnhancedAttentionExtractor\n",
    "    print(\"Strategy 2 successful.\")\n",
    "except ImportError as e:\n",
    "    print(f\"Strategy 2 failed: {e}\")"
   ]
  }
 ],
 "metadata": {
  "kernelspec": {
   "display_name": "Python 3",
   "language": "python",
   "name": "python3"
  },
  "language_info": {
   "codemirror_mode": {
    "name": "ipython",
    "version": 3
   },
   "file_extension": ".py",
   "mimetype": "text/x-python",
   "name": "python",
   "nbconvert_exporter": "python",
   "pygments_lexer": "ipython3",
   "version": "3.12.3"
  }
 },
 "nbformat": 4,
 "nbformat_minor": 2
}
